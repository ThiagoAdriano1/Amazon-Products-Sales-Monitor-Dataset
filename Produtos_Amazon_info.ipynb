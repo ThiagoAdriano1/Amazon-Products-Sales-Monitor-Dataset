{
 "cells": [
  {
   "cell_type": "markdown",
   "metadata": {},
   "source": [
    "#Importando as bibliotecas necessárias"
   ]
  },
  {
   "cell_type": "code",
   "execution_count": 18,
   "metadata": {},
   "outputs": [],
   "source": [
    "import pandas as pd\n",
    "import matplotlib.pyplot as plt"
   ]
  },
  {
   "cell_type": "markdown",
   "metadata": {},
   "source": [
    "#Utilizando a biblioteca Pandas para leitura do arquivo (csv) e criação do DataFrame"
   ]
  },
  {
   "cell_type": "code",
   "execution_count": 19,
   "metadata": {},
   "outputs": [],
   "source": [
    "df = pd.read_csv(r'C:\\Users\\FAK\\Downloads\\Produtos_Amazon_info\\extracted_product_info_amazon.csv')"
   ]
  },
  {
   "cell_type": "code",
   "execution_count": 32,
   "metadata": {},
   "outputs": [
    {
     "data": {
      "text/html": [
       "<div>\n",
       "<style scoped>\n",
       "    .dataframe tbody tr th:only-of-type {\n",
       "        vertical-align: middle;\n",
       "    }\n",
       "\n",
       "    .dataframe tbody tr th {\n",
       "        vertical-align: top;\n",
       "    }\n",
       "\n",
       "    .dataframe thead th {\n",
       "        text-align: right;\n",
       "    }\n",
       "</style>\n",
       "<table border=\"1\" class=\"dataframe\">\n",
       "  <thead>\n",
       "    <tr style=\"text-align: right;\">\n",
       "      <th></th>\n",
       "      <th>Title</th>\n",
       "      <th>Brand</th>\n",
       "      <th>Screen Size</th>\n",
       "      <th>Resolution</th>\n",
       "      <th>Aspect Ratio</th>\n",
       "      <th>Rating</th>\n",
       "      <th>Price</th>\n",
       "    </tr>\n",
       "  </thead>\n",
       "  <tbody>\n",
       "    <tr>\n",
       "      <th>0</th>\n",
       "      <td>acer SB240Y G0bi 23.8\" IPS Full HD Ultra-Slim ...</td>\n",
       "      <td>acer</td>\n",
       "      <td>23.8 Inches</td>\n",
       "      <td>FHD 1080p</td>\n",
       "      <td>16:9</td>\n",
       "      <td>4.4</td>\n",
       "      <td>94.99</td>\n",
       "    </tr>\n",
       "    <tr>\n",
       "      <th>1</th>\n",
       "      <td>acer Nitro 31.5\" FHD 1920 x 1080 1500R Curved ...</td>\n",
       "      <td>acer</td>\n",
       "      <td>31.5 Inches</td>\n",
       "      <td>FHD 1080p</td>\n",
       "      <td>16:9</td>\n",
       "      <td>4.6</td>\n",
       "      <td>259.99</td>\n",
       "    </tr>\n",
       "    <tr>\n",
       "      <th>2</th>\n",
       "      <td>Acer SB272 EBI 27\" Full HD (1920 x 1080) IPS Z...</td>\n",
       "      <td>acer</td>\n",
       "      <td>27 Inches</td>\n",
       "      <td>FHD 1080p</td>\n",
       "      <td>16:9</td>\n",
       "      <td>4.5</td>\n",
       "      <td>99.99</td>\n",
       "    </tr>\n",
       "    <tr>\n",
       "      <th>3</th>\n",
       "      <td>Sceptre 30-inch Curved Gaming Monitor 21:9 256...</td>\n",
       "      <td>Sceptre</td>\n",
       "      <td>30 Inches</td>\n",
       "      <td>FHD 1080p Ultra Wide</td>\n",
       "      <td>21:9</td>\n",
       "      <td>4.5</td>\n",
       "      <td>199.97</td>\n",
       "    </tr>\n",
       "    <tr>\n",
       "      <th>4</th>\n",
       "      <td>SAMSUNG 32\" UJ59 Series 4K UHD (3840x2160) Com...</td>\n",
       "      <td>SAMSUNG</td>\n",
       "      <td>31.5 Inches</td>\n",
       "      <td>4K UHD 2160p</td>\n",
       "      <td>16:9</td>\n",
       "      <td>4.3</td>\n",
       "      <td>279.99</td>\n",
       "    </tr>\n",
       "  </tbody>\n",
       "</table>\n",
       "</div>"
      ],
      "text/plain": [
       "                                               Title    Brand  Screen Size  \\\n",
       "0  acer SB240Y G0bi 23.8\" IPS Full HD Ultra-Slim ...     acer  23.8 Inches   \n",
       "1  acer Nitro 31.5\" FHD 1920 x 1080 1500R Curved ...     acer  31.5 Inches   \n",
       "2  Acer SB272 EBI 27\" Full HD (1920 x 1080) IPS Z...     acer    27 Inches   \n",
       "3  Sceptre 30-inch Curved Gaming Monitor 21:9 256...  Sceptre    30 Inches   \n",
       "4  SAMSUNG 32\" UJ59 Series 4K UHD (3840x2160) Com...  SAMSUNG  31.5 Inches   \n",
       "\n",
       "             Resolution Aspect Ratio Rating   Price  \n",
       "0             FHD 1080p         16:9    4.4   94.99  \n",
       "1             FHD 1080p         16:9    4.6  259.99  \n",
       "2             FHD 1080p         16:9    4.5   99.99  \n",
       "3  FHD 1080p Ultra Wide         21:9    4.5  199.97  \n",
       "4          4K UHD 2160p         16:9    4.3  279.99  "
      ]
     },
     "execution_count": 32,
     "metadata": {},
     "output_type": "execute_result"
    }
   ],
   "source": [
    "df.head()"
   ]
  },
  {
   "cell_type": "markdown",
   "metadata": {},
   "source": [
    "#Verificando os nomes de todas as colunas do DataFrame"
   ]
  },
  {
   "cell_type": "code",
   "execution_count": 20,
   "metadata": {},
   "outputs": [
    {
     "data": {
      "text/plain": [
       "Index(['Title', 'Brand', 'Screen Size', 'Resolution', 'Aspect Ratio', 'Rating',\n",
       "       'Price'],\n",
       "      dtype='object')"
      ]
     },
     "execution_count": 20,
     "metadata": {},
     "output_type": "execute_result"
    }
   ],
   "source": [
    "df.columns"
   ]
  },
  {
   "cell_type": "markdown",
   "metadata": {},
   "source": [
    "#Distribuição de acordo com os títulos dos produtos"
   ]
  },
  {
   "cell_type": "code",
   "execution_count": 21,
   "metadata": {},
   "outputs": [
    {
     "name": "stdout",
     "output_type": "stream",
     "text": [
      "Title\n",
      "ASUS 31.5” 1080P Monitor (VA329HE) - Full HD, IPS, 75Hz, Adaptive-Sync, Eye Care, Low Blue Light, Flicker Free, HDMI, VGA, Wall Mountable, Tilt Adjustable,Black                                           84\n",
      "acer Nitro 31.5\" FHD 1920 x 1080 1500R Curved PC Gaming Monitor | AMD FreeSync Premium | 240Hz Refresh | 1ms VRB | VESA Mountable | HDR10 | 1 x Display Port 1.4 & 2 x HDMI 2.0 | ED320Q X2bmiipx          75\n",
      "AOPEN by Acer 32SA2QK biip 31.5\" 4K UHD 3840x2160 ZeroFrame Gaming Office Monitor | AMD FreeSync | Ultra-Thin Stylish Design | HDR 10 | 4ms G to G | Low Blue Light | Tilt | DP 1.2 & 2 x HDMI 2.0         69\n",
      "Acer CB272 Ebmiprx 27\" FHD 1920 x 1080 Zero Frame Home Office Monitor | AMD FreeSync | 1ms VRB | 100Hz | 99% sRGB | Height Adjustable Stand with Swivel, Tilt & Pivot (Display Port, HDMI & VGA Ports)     63\n",
      "Acer SH242Y Ebmihx 23.8\" FHD 1920x1080 Home Office Ultra-Thin IPS Computer Monitor AMD FreeSync 100Hz Zero Frame Height/Swivel/Tilt Adjustable Stand Built-in Speakers HDMI 1.4 & VGA Port                 60\n",
      "Acer Predator XB273K V3bmiiprx 27\" UHD 3840x2160 Gaming Monitor | AMD FreeSync Premium | Agile-Splendor IPS 400 | 160Hz Refresh | Up to 0.5ms | DCI-P3 95% | DisplayHDR 400 | 1 x DP 1.4 & 2 x HDMI 2.1    60\n",
      "Acer Nitro 34\" UWQHD 3440 x 1440 1500R Curved PC Gaming Monitor | AMD FreeSync Premium | Up to 180Hz Refresh | 1ms (VRB) | 400nit | DisplayHDR 400 | 1 x DP 1.4 & 2 x HDMI 2.0 | XZ342CU Vbmiiphx          47\n",
      "Acer KB252Q E0bi 24.5\" IPS Full HD (1920 x 1080) Zero-Frame Gaming Office Monitor AMD FreeSync Technology Up to 100Hz Refresh 1ms (VRB) Low Blue Light Tilt HDMI & VGA Ports                               45\n",
      "acer SB240Y G0bi 23.8\" IPS Full HD Ultra-Slim Edge-to-Edge Gaming Office Monitor | Adaptive-Sync Support (FreeSync Compatible) | Up to 120Hz Refresh | 1ms (VRB) | Tilt | HDMI & VGA Ports | Black         44\n",
      "Acer SB272 EBI 27\" Full HD (1920 x 1080) IPS Zero-Frame Gaming Office Monitor | AMD FreeSync Technology |                                                                                                  39\n",
      "Name: count, dtype: int64\n"
     ]
    }
   ],
   "source": [
    "distribuicao = df['Title'].value_counts().head(10)\n",
    "print(distribuicao)"
   ]
  },
  {
   "cell_type": "markdown",
   "metadata": {},
   "source": [
    "#As marcas com maior saída"
   ]
  },
  {
   "cell_type": "code",
   "execution_count": 17,
   "metadata": {},
   "outputs": [
    {
     "name": "stdout",
     "output_type": "stream",
     "text": [
      "Brand\n",
      "acer         532\n",
      "ASUS         109\n",
      "AOPEN         70\n",
      "LG            34\n",
      "SAMSUNG       28\n",
      "Dell          25\n",
      "ViewSonic     19\n",
      "MSI           13\n",
      "HP            11\n",
      "Lenovo         9\n",
      "Name: count, dtype: int64\n"
     ]
    }
   ],
   "source": [
    "marcas_maior_saida = df['Brand'].value_counts().head(10)\n",
    "print(marcas_maior_saida)"
   ]
  },
  {
   "cell_type": "markdown",
   "metadata": {},
   "source": [
    "#As marcas com menor saída"
   ]
  },
  {
   "cell_type": "code",
   "execution_count": 16,
   "metadata": {},
   "outputs": [
    {
     "name": "stdout",
     "output_type": "stream",
     "text": [
      "Brand\n",
      "SideTrak               1\n",
      "Macsecor               1\n",
      "CRUA                   1\n",
      "INNOCN                 1\n",
      "XGaming                1\n",
      "Deco Gear              1\n",
      "Poly                   1\n",
      "KTC                    1\n",
      "MP                     1\n",
      "Axis Communications    1\n",
      "Name: count, dtype: int64\n"
     ]
    }
   ],
   "source": [
    "marcas_menor_saida = df['Brand'].value_counts().tail(10)\n",
    "print(marcas_menor_saida)"
   ]
  },
  {
   "cell_type": "markdown",
   "metadata": {},
   "source": [
    "#Monitor mais vendido"
   ]
  },
  {
   "cell_type": "code",
   "execution_count": 29,
   "metadata": {},
   "outputs": [
    {
     "name": "stdout",
     "output_type": "stream",
     "text": [
      "cocopar Portable Monitor 15.6 Inch 1080P Travel Monitor with Speaker HDMI USB-C External Monitor for Laptop MacBook Surface PC Xbox PS5 Switch, with Cover Stand VESA\n"
     ]
    }
   ],
   "source": [
    "mais_vendido = df['Title'].max()\n",
    "print(mais_vendido)"
   ]
  },
  {
   "cell_type": "markdown",
   "metadata": {},
   "source": [
    "#Resoluções Procuradas"
   ]
  },
  {
   "cell_type": "code",
   "execution_count": 30,
   "metadata": {},
   "outputs": [
    {
     "data": {
      "text/plain": [
       "array(['FHD 1080p', 'FHD 1080p Ultra Wide', '4K UHD 2160p',\n",
       "       'QHD Ultra Wide 1440p', 'QHD Wide 1440p', '5K QHD 1440p',\n",
       "       '5K2K WUHD', 'Full HD (1080p) 1920 x 1080', '4K HDR 2016',\n",
       "       'Quantom Dot OLED', 'QHD HDR400', 'FHD 1080i', 'UXGA Wide',\n",
       "       '2K DCI 1080p', '4K UHD 1600p Ultra Wide', 'QXGA Wide', 'Full HD',\n",
       "       '3840 x 2160 UHD', '3840 x 2160 (UHD)', '4K DCI 2160p', 'XGA Wide',\n",
       "       '3440 x 1440 (UWQHD)', 'HD', 'SXGA', '640 x 480 pixels', 'SVGA',\n",
       "       '4K', 'FHD 1080p Ultra Wide, FHD 1080p', 'XGA+ Wide', 'XGA',\n",
       "       'SVGA Wide, HD', 'SVGA Wide', '4K UHD 2160p, HD', '4K UHD',\n",
       "       'SXGA+ Wide', '3000', 'VGA', '5K UHD 2160p Ultra Wide',\n",
       "       '480 x 272', 'SXGA, HD', 'HD, FHD 1080p'], dtype=object)"
      ]
     },
     "execution_count": 30,
     "metadata": {},
     "output_type": "execute_result"
    }
   ],
   "source": [
    "df['Resolution'].unique()"
   ]
  },
  {
   "cell_type": "markdown",
   "metadata": {},
   "source": [
    "#Tamanho de tela em polegadas mais procuradas"
   ]
  },
  {
   "cell_type": "code",
   "execution_count": 31,
   "metadata": {},
   "outputs": [
    {
     "data": {
      "text/plain": [
       "array(['23.8 Inches', '31.5 Inches', '27 Inches', '30 Inches',\n",
       "       '32 Inches', '49 Inches', '34 Inches', '14 Inches', '24',\n",
       "       '21.5 Inches', '24 Inches', '15.6 Inches', '24.5 Inches',\n",
       "       '45 Inches', '27', '39.7 Inches', '25 Inches', '24.1 Inches',\n",
       "       '3.15 Inches', '26.5 Inches', '29 Inches', '22 Inches', '16',\n",
       "       '43.8 Inches', '38 Inches', '32', '43 Inches', '16 Inches',\n",
       "       '34.1 Inches', '23.5 Inches', '8 Inches', '28 Inches', '48 Inches',\n",
       "       '12.5 Inches', '17 Inches', '86 Inches', '4.7 Inches', '31 Inches',\n",
       "       '46 Inches', '7 Inches', '35 Inches', '19 Inches', '15 Inches',\n",
       "       '10.1 Inches', '7', '31.5', '23.6 Inches', '55 Inches', '75',\n",
       "       '10.4 Inches', '10 Inches', '25.65 Inches', '4.3 Inches',\n",
       "       '42.5 Inches', '23 Inches', '6 Inches', '0.1 Inches'], dtype=object)"
      ]
     },
     "execution_count": 31,
     "metadata": {},
     "output_type": "execute_result"
    }
   ],
   "source": [
    "df['Screen Size'].unique()"
   ]
  },
  {
   "cell_type": "code",
   "execution_count": 53,
   "metadata": {},
   "outputs": [
    {
     "data": {
      "text/plain": [
       "Rating\n",
       "4.6         38.859556\n",
       "4.5         19.324182\n",
       "4.4         17.212249\n",
       "4.2          9.398099\n",
       "Previous     3.695882\n",
       "4.3          3.062302\n",
       "5.0          1.583949\n",
       "4.7          1.372756\n",
       "3.9          0.950370\n",
       "4.1          0.739176\n",
       "4.0          0.739176\n",
       "3.5          0.527983\n",
       "3.8          0.527983\n",
       "3.7          0.422386\n",
       "3.6          0.316790\n",
       "3.4          0.211193\n",
       "2.0          0.211193\n",
       "3.3          0.105597\n",
       "4.8          0.105597\n",
       "2.2          0.105597\n",
       "3.0          0.105597\n",
       "5            0.105597\n",
       "1.0          0.105597\n",
       "3.1          0.105597\n",
       "3.2          0.105597\n",
       "Name: proportion, dtype: float64"
      ]
     },
     "execution_count": 53,
     "metadata": {},
     "output_type": "execute_result"
    }
   ],
   "source": [
    "df['Rating'].value_counts(normalize=True) * 100"
   ]
  },
  {
   "cell_type": "code",
   "execution_count": 6,
   "metadata": {},
   "outputs": [
    {
     "data": {
      "text/plain": [
       "<bound method DataFrame.info of                                                  Title      Brand  \\\n",
       "0    acer SB240Y G0bi 23.8\" IPS Full HD Ultra-Slim ...       acer   \n",
       "1    acer Nitro 31.5\" FHD 1920 x 1080 1500R Curved ...       acer   \n",
       "2    Acer SB272 EBI 27\" Full HD (1920 x 1080) IPS Z...       acer   \n",
       "3    Sceptre 30-inch Curved Gaming Monitor 21:9 256...    Sceptre   \n",
       "4    SAMSUNG 32\" UJ59 Series 4K UHD (3840x2160) Com...    SAMSUNG   \n",
       "..                                                 ...        ...   \n",
       "942  acer SB270 G0bi 27\" IPS Full HD (1920 x 1080) ...       acer   \n",
       "943  ASUS 31.5” 1080P Monitor (VA329HE) - Full HD, ...       ASUS   \n",
       "944  Acer Predator XB273K V3bmiiprx 27\" UHD 3840x21...       acer   \n",
       "945  Acer Nitro 34\" UWQHD 3440 x 1440 1500R Curved ...       acer   \n",
       "946             ViewSonic N1630w 16-Inch 720p LCD HDTV  ViewSonic   \n",
       "\n",
       "     Screen Size            Resolution Aspect Ratio Rating   Price  \n",
       "0    23.8 Inches             FHD 1080p         16:9    4.4   94.99  \n",
       "1    31.5 Inches             FHD 1080p         16:9    4.6  259.99  \n",
       "2      27 Inches             FHD 1080p         16:9    4.5   99.99  \n",
       "3      30 Inches  FHD 1080p Ultra Wide         21:9    4.5  199.97  \n",
       "4    31.5 Inches          4K UHD 2160p         16:9    4.3  279.99  \n",
       "..           ...                   ...          ...    ...     ...  \n",
       "942    27 Inches             FHD 1080p         16:9    4.5  147.35  \n",
       "943    32 Inches             FHD 1080p         16:9    4.5  157.99  \n",
       "944    27 Inches          4K UHD 2160p         16:9    4.4  399.99  \n",
       "945    34 Inches  QHD Ultra Wide 1440p         21:9    4.6  299.99  \n",
       "946    16 Inches                    HD         16:9    3.2   59.97  \n",
       "\n",
       "[947 rows x 7 columns]>"
      ]
     },
     "execution_count": 6,
     "metadata": {},
     "output_type": "execute_result"
    }
   ],
   "source": [
    "df.info"
   ]
  },
  {
   "cell_type": "code",
   "execution_count": 4,
   "metadata": {},
   "outputs": [
    {
     "data": {
      "text/html": [
       "<div>\n",
       "<style scoped>\n",
       "    .dataframe tbody tr th:only-of-type {\n",
       "        vertical-align: middle;\n",
       "    }\n",
       "\n",
       "    .dataframe tbody tr th {\n",
       "        vertical-align: top;\n",
       "    }\n",
       "\n",
       "    .dataframe thead th {\n",
       "        text-align: right;\n",
       "    }\n",
       "</style>\n",
       "<table border=\"1\" class=\"dataframe\">\n",
       "  <thead>\n",
       "    <tr style=\"text-align: right;\">\n",
       "      <th></th>\n",
       "      <th>Title</th>\n",
       "      <th>Brand</th>\n",
       "      <th>Screen Size</th>\n",
       "      <th>Resolution</th>\n",
       "      <th>Aspect Ratio</th>\n",
       "      <th>Rating</th>\n",
       "      <th>Price</th>\n",
       "    </tr>\n",
       "  </thead>\n",
       "  <tbody>\n",
       "    <tr>\n",
       "      <th>count</th>\n",
       "      <td>947</td>\n",
       "      <td>947</td>\n",
       "      <td>947</td>\n",
       "      <td>947</td>\n",
       "      <td>947</td>\n",
       "      <td>947</td>\n",
       "      <td>947</td>\n",
       "    </tr>\n",
       "    <tr>\n",
       "      <th>unique</th>\n",
       "      <td>296</td>\n",
       "      <td>62</td>\n",
       "      <td>57</td>\n",
       "      <td>41</td>\n",
       "      <td>16</td>\n",
       "      <td>25</td>\n",
       "      <td>166</td>\n",
       "    </tr>\n",
       "    <tr>\n",
       "      <th>top</th>\n",
       "      <td>ASUS 31.5” 1080P Monitor (VA329HE) - Full HD, ...</td>\n",
       "      <td>acer</td>\n",
       "      <td>27 Inches</td>\n",
       "      <td>FHD 1080p</td>\n",
       "      <td>16:9</td>\n",
       "      <td>4.6</td>\n",
       "      <td>199.99</td>\n",
       "    </tr>\n",
       "    <tr>\n",
       "      <th>freq</th>\n",
       "      <td>84</td>\n",
       "      <td>532</td>\n",
       "      <td>260</td>\n",
       "      <td>566</td>\n",
       "      <td>833</td>\n",
       "      <td>368</td>\n",
       "      <td>122</td>\n",
       "    </tr>\n",
       "  </tbody>\n",
       "</table>\n",
       "</div>"
      ],
      "text/plain": [
       "                                                    Title Brand Screen Size  \\\n",
       "count                                                 947   947         947   \n",
       "unique                                                296    62          57   \n",
       "top     ASUS 31.5” 1080P Monitor (VA329HE) - Full HD, ...  acer   27 Inches   \n",
       "freq                                                   84   532         260   \n",
       "\n",
       "       Resolution Aspect Ratio Rating   Price  \n",
       "count         947          947    947     947  \n",
       "unique         41           16     25     166  \n",
       "top     FHD 1080p         16:9    4.6  199.99  \n",
       "freq          566          833    368     122  "
      ]
     },
     "execution_count": 4,
     "metadata": {},
     "output_type": "execute_result"
    }
   ],
   "source": [
    "df.describe()"
   ]
  }
 ],
 "metadata": {
  "kernelspec": {
   "display_name": "Python 3",
   "language": "python",
   "name": "python3"
  },
  "language_info": {
   "codemirror_mode": {
    "name": "ipython",
    "version": 3
   },
   "file_extension": ".py",
   "mimetype": "text/x-python",
   "name": "python",
   "nbconvert_exporter": "python",
   "pygments_lexer": "ipython3",
   "version": "3.12.3"
  }
 },
 "nbformat": 4,
 "nbformat_minor": 2
}
